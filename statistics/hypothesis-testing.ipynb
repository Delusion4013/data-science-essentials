{
 "cells": [
  {
   "cell_type": "markdown",
   "metadata": {},
   "source": [
    "# Complete Walkthrough"
   ]
  },
  {
   "cell_type": "markdown",
   "metadata": {},
   "source": [
    "### Import necessary packages and load data"
   ]
  },
  {
   "cell_type": "code",
   "execution_count": 2,
   "metadata": {},
   "outputs": [],
   "source": [
    "import math\n",
    "import numpy as np\n",
    "import pandas as pd\n",
    "from scipy import stats"
   ]
  },
  {
   "cell_type": "code",
   "execution_count": 3,
   "metadata": {},
   "outputs": [
    {
     "data": {
      "text/html": [
       "<div>\n",
       "<style scoped>\n",
       "    .dataframe tbody tr th:only-of-type {\n",
       "        vertical-align: middle;\n",
       "    }\n",
       "\n",
       "    .dataframe tbody tr th {\n",
       "        vertical-align: top;\n",
       "    }\n",
       "\n",
       "    .dataframe thead th {\n",
       "        text-align: right;\n",
       "    }\n",
       "</style>\n",
       "<table border=\"1\" class=\"dataframe\">\n",
       "  <thead>\n",
       "    <tr style=\"text-align: right;\">\n",
       "      <th></th>\n",
       "      <th>user_id</th>\n",
       "      <th>user_type</th>\n",
       "      <th>session_duration</th>\n",
       "    </tr>\n",
       "  </thead>\n",
       "  <tbody>\n",
       "    <tr>\n",
       "      <th>0</th>\n",
       "      <td>BM3C0BJ7CS</td>\n",
       "      <td>variation</td>\n",
       "      <td>15.528769</td>\n",
       "    </tr>\n",
       "    <tr>\n",
       "      <th>1</th>\n",
       "      <td>MJWN6XNH6L</td>\n",
       "      <td>variation</td>\n",
       "      <td>32.287590</td>\n",
       "    </tr>\n",
       "    <tr>\n",
       "      <th>2</th>\n",
       "      <td>46ZPHHABLS</td>\n",
       "      <td>variation</td>\n",
       "      <td>43.718217</td>\n",
       "    </tr>\n",
       "    <tr>\n",
       "      <th>3</th>\n",
       "      <td>OHA298DHUG</td>\n",
       "      <td>variation</td>\n",
       "      <td>49.519702</td>\n",
       "    </tr>\n",
       "    <tr>\n",
       "      <th>4</th>\n",
       "      <td>AKJ77X6F4A</td>\n",
       "      <td>control</td>\n",
       "      <td>61.709028</td>\n",
       "    </tr>\n",
       "    <tr>\n",
       "      <th>5</th>\n",
       "      <td>BFNWMGU6DX</td>\n",
       "      <td>variation</td>\n",
       "      <td>71.779283</td>\n",
       "    </tr>\n",
       "    <tr>\n",
       "      <th>6</th>\n",
       "      <td>UFO2V8ZKFB</td>\n",
       "      <td>variation</td>\n",
       "      <td>23.291835</td>\n",
       "    </tr>\n",
       "    <tr>\n",
       "      <th>7</th>\n",
       "      <td>4CEIM3VRS9</td>\n",
       "      <td>control</td>\n",
       "      <td>25.219461</td>\n",
       "    </tr>\n",
       "    <tr>\n",
       "      <th>8</th>\n",
       "      <td>90AGF68FF8</td>\n",
       "      <td>control</td>\n",
       "      <td>26.240482</td>\n",
       "    </tr>\n",
       "    <tr>\n",
       "      <th>9</th>\n",
       "      <td>R3DQFO6068</td>\n",
       "      <td>variation</td>\n",
       "      <td>20.780244</td>\n",
       "    </tr>\n",
       "  </tbody>\n",
       "</table>\n",
       "</div>"
      ],
      "text/plain": [
       "      user_id  user_type  session_duration\n",
       "0  BM3C0BJ7CS  variation         15.528769\n",
       "1  MJWN6XNH6L  variation         32.287590\n",
       "2  46ZPHHABLS  variation         43.718217\n",
       "3  OHA298DHUG  variation         49.519702\n",
       "4  AKJ77X6F4A    control         61.709028\n",
       "5  BFNWMGU6DX  variation         71.779283\n",
       "6  UFO2V8ZKFB  variation         23.291835\n",
       "7  4CEIM3VRS9    control         25.219461\n",
       "8  90AGF68FF8    control         26.240482\n",
       "9  R3DQFO6068  variation         20.780244"
      ]
     },
     "execution_count": 3,
     "metadata": {},
     "output_type": "execute_result"
    }
   ],
   "source": [
    "# Load the data\n",
    "data = pd.read_csv(\"data/background_color_experiment.csv\")\n",
    "\n",
    "# Print the first 10 rows\n",
    "data.head(10)"
   ]
  },
  {
   "cell_type": "markdown",
   "metadata": {},
   "source": [
    "The above data was adapated from Coursera course - [Probability & Statistics for Machine Learning & Data Science specialization](https://www.coursera.org/learn/machine-learning-probability-and-statistics/home/welcome) Week 4's coding assignment."
   ]
  },
  {
   "cell_type": "markdown",
   "metadata": {},
   "source": [
    "### Data exploration"
   ]
  },
  {
   "cell_type": "markdown",
   "metadata": {},
   "source": [
    "Getting an overview of the dataframe using pandas `Dataframe.info()` method, which provides a concise column-wise summary, including the number of non-null entries and data types.\n",
    "\n",
    "Another widely used overview methods in pandas is `df.describe()`, which provides a statistical summary of numerical columncs."
   ]
  },
  {
   "cell_type": "code",
   "execution_count": 4,
   "metadata": {},
   "outputs": [
    {
     "name": "stdout",
     "output_type": "stream",
     "text": [
      "<class 'pandas.core.frame.DataFrame'>\n",
      "RangeIndex: 4186 entries, 0 to 4185\n",
      "Data columns (total 3 columns):\n",
      " #   Column            Non-Null Count  Dtype  \n",
      "---  ------            --------------  -----  \n",
      " 0   user_id           4186 non-null   object \n",
      " 1   user_type         4186 non-null   object \n",
      " 2   session_duration  4186 non-null   float64\n",
      "dtypes: float64(1), object(2)\n",
      "memory usage: 98.2+ KB\n"
     ]
    }
   ],
   "source": [
    "data.info()"
   ]
  },
  {
   "cell_type": "code",
   "execution_count": 5,
   "metadata": {},
   "outputs": [
    {
     "data": {
      "text/html": [
       "<div>\n",
       "<style scoped>\n",
       "    .dataframe tbody tr th:only-of-type {\n",
       "        vertical-align: middle;\n",
       "    }\n",
       "\n",
       "    .dataframe tbody tr th {\n",
       "        vertical-align: top;\n",
       "    }\n",
       "\n",
       "    .dataframe thead th {\n",
       "        text-align: right;\n",
       "    }\n",
       "</style>\n",
       "<table border=\"1\" class=\"dataframe\">\n",
       "  <thead>\n",
       "    <tr style=\"text-align: right;\">\n",
       "      <th></th>\n",
       "      <th>session_duration</th>\n",
       "    </tr>\n",
       "  </thead>\n",
       "  <tbody>\n",
       "    <tr>\n",
       "      <th>count</th>\n",
       "      <td>4186.000000</td>\n",
       "    </tr>\n",
       "    <tr>\n",
       "      <th>mean</th>\n",
       "      <td>33.378228</td>\n",
       "    </tr>\n",
       "    <tr>\n",
       "      <th>std</th>\n",
       "      <td>17.900628</td>\n",
       "    </tr>\n",
       "    <tr>\n",
       "      <th>min</th>\n",
       "      <td>5.644838</td>\n",
       "    </tr>\n",
       "    <tr>\n",
       "      <th>25%</th>\n",
       "      <td>20.997190</td>\n",
       "    </tr>\n",
       "    <tr>\n",
       "      <th>50%</th>\n",
       "      <td>29.390909</td>\n",
       "    </tr>\n",
       "    <tr>\n",
       "      <th>75%</th>\n",
       "      <td>40.712797</td>\n",
       "    </tr>\n",
       "    <tr>\n",
       "      <th>max</th>\n",
       "      <td>213.134368</td>\n",
       "    </tr>\n",
       "  </tbody>\n",
       "</table>\n",
       "</div>"
      ],
      "text/plain": [
       "       session_duration\n",
       "count       4186.000000\n",
       "mean          33.378228\n",
       "std           17.900628\n",
       "min            5.644838\n",
       "25%           20.997190\n",
       "50%           29.390909\n",
       "75%           40.712797\n",
       "max          213.134368"
      ]
     },
     "execution_count": 5,
     "metadata": {},
     "output_type": "execute_result"
    }
   ],
   "source": [
    "data.describe()"
   ]
  },
  {
   "cell_type": "code",
   "execution_count": 6,
   "metadata": {},
   "outputs": [
    {
     "data": {
      "text/plain": [
       "array(['variation', 'control'], dtype=object)"
      ]
     },
     "execution_count": 6,
     "metadata": {},
     "output_type": "execute_result"
    }
   ],
   "source": [
    "data['user_type'].unique()"
   ]
  },
  {
   "cell_type": "markdown",
   "metadata": {},
   "source": [
    "### Form hypothesis and revisit testing principles\n",
    "\n",
    "This dataset provides a record of user's session duration over different website design (seperated by `variation` and `control` type).\n",
    "\n",
    "In this context, the **null hypothesis** is that the change *did not* affect the time a visitor spend. Let's name $\\mu_c$ is the average time a user in the **control group** spend in website, while $\\mu_v$ is the average time a user in the **variation group** spend in website. With that, null hypothesis is then $H_0: \\mu_c = \\mu_v$ and the **alternative hypothesis** is $H_1:\\mu_v > \\mu_c \\Leftrightarrow H_1: \\mu_v - \\mu_c > 0$.\n",
    "\n",
    "This is a **right-tailed test**. "
   ]
  },
  {
   "cell_type": "markdown",
   "metadata": {},
   "source": [
    "As there are more than `2,000` users per group, it's reasonable to claim that the Central Limit Theorem that the average time for each group follows a **normal distribution**. (Note its the **group average time** follows a normal distribution, not each user's time spent). With the quantities defined as below:\n",
    "\n",
    "- $\\overline{X}_c$ - the control group **sample mean**.\n",
    "- $\\overline{X}_v$ - the variation group **sample mean**.\n",
    "- $n_c$ - the control group **size**.\n",
    "- $n_v$ - the variation group **size**.\n",
    "\n",
    "We could express the CLT using symbols that:\n",
    "\n",
    "- $$\\overline{X}_c \\sim N\\left(\\mu_c, \\left(\\frac{\\sigma_c}{\\sqrt{n_c}}\\right)^2\\right)$$\n",
    "- $$\\overline{X}_v \\sim N\\left(\\mu_v, \\left(\\frac{\\sigma_v}{\\sqrt{n_v}}\\right)^2\\right)$$\n",
    "\n",
    "With the assumptions of normality, $\\overline{X}_v - \\overline{X}_c$ also follows a normal distribution. So, if $H_0$ is true, then $\\mu_c = \\mu_v$ and $\\mu_v - \\mu_c = 0$, therefore:\n",
    " \n",
    "$$\\overline{X}_c - \\overline{X}_v \\sim N\\left(\\mu_v - \\mu_c, \\left(\\dfrac{\\sigma_v}{\\sqrt{n_v}}\\right)^2 + \\left(\\dfrac{\\sigma_c}{\\sqrt{n_c}}\\right)^2\\right) = N\\left(0, \\left(\\dfrac{\\sigma_v}{\\sqrt{n_v}}\\right)^2 + \\left(\\dfrac{\\sigma_c}{\\sqrt{n_c}}\\right)^2\\right)$$\n",
    "\n",
    "Or equivalently (with standardization):\n",
    "\n",
    "$$\\frac{\\left( \\overline{X}_v - \\overline{X}_c \\right)}{\\sqrt{\\left(\\frac{\\sigma_v}{\\sqrt{n_v}}\\right)^2 + \\left(\\frac{\\sigma_c}{\\sqrt{n_c}}\\right)^2}} \\sim N(0, 1)$$"
   ]
  },
  {
   "cell_type": "code",
   "execution_count": 7,
   "metadata": {},
   "outputs": [],
   "source": [
    "def get_stats(X):\n",
    "    \"\"\"\n",
    "    Calculate basic statistics of a given data set. Extracted as a unique method to improve re-usability.\n",
    "\n",
    "    Parameters:\n",
    "    X (numpy.array): Input data.\n",
    "\n",
    "    Returns:\n",
    "    tuple: A tuple containing:\n",
    "        - n (int): Number of elements in the data set.\n",
    "        - x (float): Mean of the data set.\n",
    "        - s (float): Sample standard deviation of the data set.\n",
    "    \"\"\"\n",
    "\n",
    "    # Get the group size\n",
    "    n = len(X)\n",
    "    # Get the group mean\n",
    "    x = np.mean(X)\n",
    "    # Get the group sample standard deviation (do not forget to pass the parameter ddof if using the method .std)    \n",
    "    # Note here `ddof` stands for the delta degree of freedom\n",
    "    s = np.std(X, ddof=1)\n",
    "\n",
    "    return (n,x,s)"
   ]
  },
  {
   "cell_type": "code",
   "execution_count": 8,
   "metadata": {},
   "outputs": [
    {
     "name": "stdout",
     "output_type": "stream",
     "text": [
      "For X_c:\n",
      "\tn_c = 2069, x_c = 32.92, s_c = 17.54 \n",
      "For X_v:\n",
      "\tn_v = 2117, x_v = 33.83, s_v = 18.24 \n"
     ]
    }
   ],
   "source": [
    "# Separate the data from the two groups (sd stands for session duration)\n",
    "control_sd_data = data[data[\"user_type\"]==\"control\"][\"session_duration\"]\n",
    "variation_sd_data = data[data[\"user_type\"]==\"variation\"][\"session_duration\"]\n",
    "\n",
    "# X_c stores the session tome for the control group and X_v, for the variation group. \n",
    "X_c = control_sd_data.to_numpy()\n",
    "X_v = variation_sd_data.to_numpy()\n",
    "\n",
    "# For the example dataset, we can have:\n",
    "n_c, x_c, s_c = get_stats(X_c)\n",
    "n_v, x_v, s_v = get_stats(X_v)\n",
    "\n",
    "print(f\"For X_c:\\n\\tn_c = {n_c}, x_c = {x_c:.2f}, s_c = {s_c:.2f} \")\n",
    "print(f\"For X_v:\\n\\tn_v = {n_v}, x_v = {x_v:.2f}, s_v = {s_v:.2f} \")"
   ]
  },
  {
   "cell_type": "markdown",
   "metadata": {},
   "source": [
    "As we have **no access to the exact values** for $\\sigma_v$ and $sigma_c$, we must replace the populartion variance with **sample standard deviation**, respectively, $s_c$ and $s_v$. Changing the population standard deviation to sample standard deviation results in the random variable to be changed from a **Normal Distribution** to a **t-student distribution**:\n",
    "$$t = \\frac{\\left( \\overline{X}_v - \\overline{X}_c \\right)}{\\sqrt{\\left(\\frac{s_v}{\\sqrt{n_v}}\\right)^2 + \\left(\\frac{s_c}{\\sqrt{n_c}}\\right)^2}} \\sim t_d$$\n",
    "\n",
    "Where $d$ is the degree of freedom for this scenario.\n",
    "\n",
    "$$d = \\frac{\\left[\\frac{s_{v}^2}{n_v} + \\frac{s_{c}^2}{n_c} \\right]^2}{\\frac{(s_{v}^2/n_v)^2}{n_v-1} + \\frac{(s_{c}^2/n_c)^2}{n_c-1}}$$\n"
   ]
  },
  {
   "cell_type": "code",
   "execution_count": 9,
   "metadata": {},
   "outputs": [],
   "source": [
    "def degrees_of_freedom(n_v, s_v, n_c, s_c):\n",
    "    \"\"\"\n",
    "    Computes the degrees of freedom for two samples.\n",
    "\n",
    "    Args:\n",
    "        control_metrics (estimation_metrics_cont): The metrics for the control sample.\n",
    "        variation_metrics (estimation_metrics_cont): The metrics for the variation sample.\n",
    "\n",
    "    Returns:\n",
    "        numpy.float: The degrees of freedom.\n",
    "    \"\"\"\n",
    "    # Divide the numerator and the denominator calculation to make the code more readable.\n",
    "    # Compute s_v^2/n_v \n",
    "    s_v_n_v = s_v**2 / n_v\n",
    "\n",
    "    # Compute s_c^2/n_c \n",
    "    s_c_n_c = s_c**2 / n_c\n",
    "\n",
    "    # Compute the numerator in the formula given above\n",
    "    numerator = np.square(s_v_n_v + s_c_n_c)\n",
    "\n",
    "    # Compute the denominator in the formula given above.\n",
    "    denominator = np.square(s_c_n_c)/(n_c-1) + np.square(s_v_n_v)/(n_v-1)\n",
    "    \n",
    "    dof = numerator/denominator\n",
    "        \n",
    "    return dof"
   ]
  },
  {
   "cell_type": "code",
   "execution_count": 10,
   "metadata": {},
   "outputs": [
    {
     "name": "stdout",
     "output_type": "stream",
     "text": [
      "The degrees of freedom for the t-student in this scenario is: 4182.97\n"
     ]
    }
   ],
   "source": [
    "d = degrees_of_freedom(n_v, s_v, n_c, s_c)\n",
    "print(f\"The degrees of freedom for the t-student in this scenario is: {d:.2f}\")"
   ]
  },
  {
   "cell_type": "code",
   "execution_count": 11,
   "metadata": {},
   "outputs": [],
   "source": [
    "def t_value(n_v, x_v, s_v, n_c, x_c, s_c):\n",
    "    \"\"\"\n",
    "    Computes the t-value with two samples.\n",
    "\n",
    "    Args:\n",
    "        control_metrics (estimation_metrics_cont): The metrics for the control sample.\n",
    "        variation_metrics (estimation_metrics_cont): The metrics for the variation sample.\n",
    "\n",
    "    Returns:\n",
    "        numpy.float: The degrees of freedom.\n",
    "    \"\"\"\n",
    "\n",
    "    # Compute s_v^2/n_v\n",
    "    s_v_n_v = s_v**2 / n_v\n",
    "\n",
    "    # Compute s_c^2/n_c \n",
    "    s_c_n_c = s_c**2 / n_c\n",
    "\n",
    "    # Compute the numerator for the t-value as given in the formula above\n",
    "    numerator = x_v - x_c\n",
    "\n",
    "    # Compute the denominator for the t-value as given in the formula above. \n",
    "    denominator = np.sqrt(s_v_n_v + s_c_n_c)\n",
    "    \n",
    "    t = numerator/denominator\n",
    "\n",
    "    return t"
   ]
  },
  {
   "cell_type": "code",
   "execution_count": 12,
   "metadata": {},
   "outputs": [
    {
     "name": "stdout",
     "output_type": "stream",
     "text": [
      "The t-value for this experiment is: 1.64\n"
     ]
    }
   ],
   "source": [
    "t = t_value(n_v, x_v, s_v, n_c, x_c, s_c)\n",
    "print(f\"The t-value for this experiment is: {t:.2f}\")"
   ]
  },
  {
   "cell_type": "markdown",
   "metadata": {},
   "source": [
    "With $d$ calculated and a selected significance level $\\alpha$, we can perform the step of finding the p-value that:\n",
    "$$p = P(t_d > t | H_0)$$\n",
    "\n",
    "If this value is less than your significance level $\\alpha$, then you **reject the null hypothesis**, because it means that you observed a value that is very unlikely to occur (unlikely here means that is less than the significance level you have set) if $H_0$ is true.\n",
    "\n",
    "Note that $P(t_d \\leq t)$ is the $\\text{CDF}$ (cumulative distribution function) for the $t$-student distribution with $d$ degrees of freedom in the point $x = t$, so to compute $P(t_d > t)$ you may compute:\n",
    "\n",
    "$$P(t_d > t) = 1 - \\text{CDF}_{t_d}(t)$$\n",
    "\n",
    "Since $P(t_d \\leq t) + P(t_d > t) = 1$"
   ]
  },
  {
   "cell_type": "code",
   "execution_count": 13,
   "metadata": {},
   "outputs": [],
   "source": [
    "def p_value(d, t_value):\n",
    "    # Load the t-student distribution with $d$ degrees of freedom. \n",
    "    t_d = stats.t(df = d)\n",
    "\n",
    "    # Compute the p-value, P(t_d > t). Remember to use the t_d.cdf with the proper adjustments as discussed above.\n",
    "    p = 1 - t_d.cdf(t_value)\n",
    "\n",
    "    return p"
   ]
  },
  {
   "cell_type": "code",
   "execution_count": 14,
   "metadata": {},
   "outputs": [
    {
     "name": "stdout",
     "output_type": "stream",
     "text": [
      "The p-value for t_15 with t-value = 1.10 is: 0.1443\n",
      "The p-value for t_30 with t-value = 1.10 is: 0.1400\n"
     ]
    }
   ],
   "source": [
    "print(f\"The p-value for t_15 with t-value = 1.10 is: {p_value(15, 1.10):.4f}\")\n",
    "print(f\"The p-value for t_30 with t-value = 1.10 is: {p_value(30, 1.10):.4f}\")"
   ]
  },
  {
   "cell_type": "code",
   "execution_count": 15,
   "metadata": {},
   "outputs": [],
   "source": [
    "def make_decision(X_v, X_c, alpha = 0.05):\n",
    "    \"\"\"\n",
    "    Combine all previous methods together\n",
    "    \"\"\"\n",
    "    # Compute n_v, x_v and s_v\n",
    "    n_v, x_v, s_v = get_stats(X_v)\n",
    "\n",
    "    # Compute n_c, x_c and s_c\n",
    "    n_c, x_c, s_c = get_stats(X_c)\n",
    "\n",
    "    # Compute the degrees of freedom for the t-student distribution for this experiment.\n",
    "    d = degrees_of_freedom(n_v, s_v, n_c, s_c)\n",
    "    \n",
    "    # Compute the t-value\n",
    "    t = t_value(n_v, x_v, s_v, n_c, x_c, s_c)\n",
    "\n",
    "    # Compute the p-value for the t-student distribution with d degrees of freedom\n",
    "    p = p_value(d, t)\n",
    "\n",
    "    # This is the decision step. Compare p with alpha to decide about rejecting H_0 or not. \n",
    "\n",
    "    if p < alpha:\n",
    "        return 'Reject H_0'\n",
    "    else:\n",
    "        return 'Do not reject H_0'"
   ]
  },
  {
   "cell_type": "code",
   "execution_count": 16,
   "metadata": {},
   "outputs": [
    {
     "name": "stdout",
     "output_type": "stream",
     "text": [
      "For an alpha of 0.06 the decision is to: Reject H_0\n",
      "For an alpha of 0.05 the decision is to: Do not reject H_0\n",
      "For an alpha of 0.04 the decision is to: Do not reject H_0\n",
      "For an alpha of 0.01 the decision is to: Do not reject H_0\n"
     ]
    }
   ],
   "source": [
    "alphas = [0.06, 0.05, 0.04, 0.01]\n",
    "for alpha in alphas:\n",
    "    print(f\"For an alpha of {alpha} the decision is to: {make_decision(X_v, X_c, alpha = alpha)}\")"
   ]
  }
 ],
 "metadata": {
  "kernelspec": {
   "display_name": "ds",
   "language": "python",
   "name": "python3"
  },
  "language_info": {
   "codemirror_mode": {
    "name": "ipython",
    "version": 3
   },
   "file_extension": ".py",
   "mimetype": "text/x-python",
   "name": "python",
   "nbconvert_exporter": "python",
   "pygments_lexer": "ipython3",
   "version": "3.11.13"
  }
 },
 "nbformat": 4,
 "nbformat_minor": 2
}
